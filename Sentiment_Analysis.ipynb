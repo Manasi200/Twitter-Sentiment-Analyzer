{
  "nbformat": 4,
  "nbformat_minor": 0,
  "metadata": {
    "colab": {
      "provenance": [],
      "collapsed_sections": [],
      "authorship_tag": "ABX9TyNpjXe0N6ZBaiEUPw+Q+l7B",
      "include_colab_link": true
    },
    "kernelspec": {
      "name": "python3",
      "display_name": "Python 3"
    },
    "language_info": {
      "name": "python"
    }
  },
  "cells": [
    {
      "cell_type": "markdown",
      "metadata": {
        "id": "view-in-github",
        "colab_type": "text"
      },
      "source": [
        "<a href=\"https://colab.research.google.com/github/Manasi200/Twitter-Sentiment-Analyzer/blob/main/Sentiment_Analysis.ipynb\" target=\"_parent\"><img src=\"https://colab.research.google.com/assets/colab-badge.svg\" alt=\"Open In Colab\"/></a>"
      ]
    },
    {
      "cell_type": "code",
      "source": [
        "from textblob import TextBlob"
      ],
      "metadata": {
        "id": "2ac0lpE7MFC5"
      },
      "execution_count": null,
      "outputs": []
    },
    {
      "cell_type": "code",
      "source": [
        "Feedback1 = \"I loved the movie.\"\n",
        "Feedback2 = \"I absolutely hate the food at this restaurant.\"\n",
        "blob1 = TextBlob(Feedback1)\n",
        "blob2 = TextBlob(Feedback2)\n",
        "\n",
        "print(blob1.sentiment)\n",
        "print(blob2.sentiment)"
      ],
      "metadata": {
        "colab": {
          "base_uri": "https://localhost:8080/"
        },
        "id": "YuIV9DttMLVJ",
        "outputId": "6d686526-4f63-4224-f3db-8e7291932d1a"
      },
      "execution_count": null,
      "outputs": [
        {
          "output_type": "stream",
          "name": "stdout",
          "text": [
            "Sentiment(polarity=0.7, subjectivity=0.8)\n",
            "Sentiment(polarity=-0.8, subjectivity=0.9)\n"
          ]
        }
      ]
    },
    {
      "cell_type": "code",
      "source": [
        "import tweepy\n",
        "from textblob import TextBlob\n",
        "consumer_key = '__________________________'\n",
        "consumer_secret = '__________________________'\n",
        "access_token = '________________________________'\n",
        "access_token_secret = '__________________________'\n",
        "auth = tweepy.OAuthHandler(consumer_key,consumer_secret)\n",
        "auth.set_access_token(access_token,access_token_secret)\n",
        "api = tweepy.API(auth)\n",
        "public_tweets = api.search('covid-19')\n",
        "for tweet in public_tweets:\n",
        "    print(tweet.text)\n",
        "    analysis = TextBlob(tweet.text)\n",
        "    print(analysis.sentiment)"
      ],
      "metadata": {
        "colab": {
          "base_uri": "https://localhost:8080/"
        },
        "id": "V3fn5pDcMXro",
        "outputId": "de483bb0-147d-476d-f07f-6060f5e5f38a"
      },
      "execution_count": null,
      "outputs": [
        {
          "output_type": "stream",
          "name": "stdout",
          "text": [
            "RT @Gab_H_R: Norway - fresh epi update ⚠️ \n",
            "\n",
            "This is not looking good at all 👇🏻\n",
            "\n",
            "Number of new patients admitted to hospital with covid-19 a…\n",
            "Sentiment(polarity=0.37878787878787873, subjectivity=0.5181818181818182)\n",
            "23-02-22 22:37:28 0208537 zw1 : COVID-19 COVID-19 N04, ravels, 2380 \"\n",
            "Sentiment(polarity=0.0, subjectivity=0.0)\n",
            "RT @kallmemeg: Sometimes it’s impossible for even epidemiologists to detach emotion from a statistic. This is one of those times.\n",
            "\n",
            "Half of…\n",
            "Sentiment(polarity=-0.41666666666666663, subjectivity=0.5833333333333334)\n",
            "RT @granatepcf: ⚽🔚  [FINAL] en Santiago.\n",
            "\n",
            "* Partido que fuera aplazado en su día por casos de Covid.\n",
            "\n",
            "🏆 #SegundaRFEF\n",
            "\n",
            "4️⃣ @SD_Compostela 🟦⬜…\n",
            "Sentiment(polarity=0.0, subjectivity=1.0)\n",
            "RT @CoronavirusNewv: #ENCUESTA Dada la situación actual de disminución de contagios en muchos lugares:\n",
            "\n",
            "¿Estás de acuerdo en seguir usando…\n",
            "Sentiment(polarity=0.0, subjectivity=0.1)\n",
            "RT @sipho2000: They have officially removed Covid 19 from my mums death certificate after investigating it fully. One last fight for mum an…\n",
            "Sentiment(polarity=0.0, subjectivity=0.06666666666666667)\n",
            "RT @PKBNews: Gov. Phil Murphy will end regular COVID-19 briefings on March 4, two years after the first coronavirus case was reported in th…\n",
            "Sentiment(polarity=0.125, subjectivity=0.20512820512820512)\n",
            "RT @imgrund: ⭐️ Do you live in Toronto?\n",
            " \n",
            "⭐️ Have you or a family member rapid tested positive for COVID-19 in the past few 2 days?\n",
            " \n",
            "⭐️ In…\n",
            "Sentiment(polarity=-0.02159090909090909, subjectivity=0.3488636363636364)\n",
            "RT @Holly_4Congress: If Marjorie Taylor Greene is so concerned about vaccine efficacy, why does she own stock in three of the COVID-19 vacc…\n",
            "Sentiment(polarity=0.6, subjectivity=1.0)\n",
            "⚽️🐰 Alê testa positivo para a Covid-19 e desfalca o @AmericaMG  na estreia na Libertadores\n",
            "https://t.co/8AeDlQWI7I\n",
            "Sentiment(polarity=0.0, subjectivity=0.0)\n",
            "RT @SeremiSalud_I: Informe Diario #COVID_19 en región de #Tarapacá - 23 de febrero\n",
            "\n",
            "🔸149 casos nuevos\n",
            "🔸Total casos positivos: 76.050\n",
            "🔸Casos…\n",
            "Sentiment(polarity=0.0, subjectivity=0.0)\n",
            "RT @GBNEWS: 'In all of this Covid stuff, where I have been very outspoken, other doctors have often worked so hard to shut me down'\n",
            "\n",
            "@DrHoe…\n",
            "Sentiment(polarity=-0.09305555555555556, subjectivity=0.37638888888888894)\n",
            "RT @AP: Canadian Prime Minister Justin Trudeau is removing emergency powers police can use after authorities ended the border blockades and…\n",
            "Sentiment(polarity=0.0, subjectivity=0.0)\n",
            "Anyone who needs to get tested for COVID-19 can get tested on campus @ChooseCRC @CRCconnection https://t.co/9ygMImBror\n",
            "Sentiment(polarity=0.0, subjectivity=0.0)\n",
            "RT @RepMikeGarcia: I led a cohort of California lawmakers in calling on @CAgovernor to end the ongoing COVID-19 related State of Emergency…\n",
            "Sentiment(polarity=0.0, subjectivity=0.4)\n"
          ]
        }
      ]
    },
    {
      "cell_type": "code",
      "source": [
        "import tweepy\n",
        "from textblob import TextBlob\n",
        "import preprocessor as p\n",
        "#p.clean('#this and that')\n",
        "import statistics\n",
        "from typing import List\n",
        "\n",
        "consumer_key = '__________________'\n",
        "consumer_secret = '________________________________'\n",
        "access_token = '_______________________________________'\n",
        "access_token_secret = '_______________________________'\n",
        "auth = tweepy.OAuthHandler(consumer_key,consumer_secret)\n",
        "auth.set_access_token(access_token,access_token_secret)\n",
        "api = tweepy.API(auth)\n",
        "\n",
        "def get_tweets(keyword : str) -> List[str]:\n",
        "    all_tweets = []\n",
        "    for tweet in tweepy.Cursor(api.search, q = keyword, tweet_mode = 'extended', lang = 'en').items(10):\n",
        "        all_tweets.append(tweet.full_text)\n",
        "    return all_tweets\n",
        "\n",
        "\n",
        "def clean_tweets(all_tweets : List[str]) -> List[str]:\n",
        "    tweets_clean = []\n",
        "    for tweet in all_tweets:\n",
        "        tweets_clean.append(p.clean(tweet))\n",
        "    return tweets_clean\n",
        "\n",
        "def get_sentiment(all_tweets : List[str]) -> List[float]:\n",
        "    sentiment_scores = []\n",
        "    for tweet in all_tweets:\n",
        "        blob = TextBlob(tweet)\n",
        "        sentiment_scores.append(blob.sentiment.polarity)\n",
        "    return sentiment_scores\n",
        "\n",
        "def generate_average_sentiment_score(keyword : str) -> int:\n",
        "    tweets = get_tweets(keyword)\n",
        "    tweets_clean = clean_tweets(tweets)\n",
        "    sentiment_scores = get_sentiment(tweets_clean)\n",
        "    \n",
        "    average_score = statistics.mean(sentiment_scores)\n",
        "    \n",
        "    return average_score\n",
        "\n",
        "if __name__ == \"__main__\":\n",
        "    \n",
        "    print(\"What does the world prefer?\")\n",
        "    first_thing = input()\n",
        "    print(\"....or....\")\n",
        "    second_thing = input()\n",
        "    print(\"\\n\")\n",
        "    \n",
        "    first_score = generate_average_sentiment_score(first_thing)\n",
        "    second_score = generate_average_sentiment_score(second_thing)\n",
        "    \n",
        "    if (first_score > second_score):\n",
        "        print(f\"The humanity prefers {first_thing} over {second_thing}!\")\n",
        "    else:\n",
        "        print(f\"The humanity prefers {second_thing} over {first_thing}!\")"
      ],
      "metadata": {
        "colab": {
          "base_uri": "https://localhost:8080/",
          "height": 374
        },
        "id": "H02EK-wiMfg1",
        "outputId": "337ad111-daef-421a-b47d-0f5e7001d510"
      },
      "execution_count": null,
      "outputs": [
        {
          "output_type": "error",
          "ename": "ModuleNotFoundError",
          "evalue": "ignored",
          "traceback": [
            "\u001b[0;31m---------------------------------------------------------------------------\u001b[0m",
            "\u001b[0;31mModuleNotFoundError\u001b[0m                       Traceback (most recent call last)",
            "\u001b[0;32m<ipython-input-1-9baf5593d041>\u001b[0m in \u001b[0;36m<module>\u001b[0;34m()\u001b[0m\n\u001b[1;32m      1\u001b[0m \u001b[0;32mimport\u001b[0m \u001b[0mtweepy\u001b[0m\u001b[0;34m\u001b[0m\u001b[0;34m\u001b[0m\u001b[0m\n\u001b[1;32m      2\u001b[0m \u001b[0;32mfrom\u001b[0m \u001b[0mtextblob\u001b[0m \u001b[0;32mimport\u001b[0m \u001b[0mTextBlob\u001b[0m\u001b[0;34m\u001b[0m\u001b[0;34m\u001b[0m\u001b[0m\n\u001b[0;32m----> 3\u001b[0;31m \u001b[0;32mimport\u001b[0m \u001b[0mpreprocessor\u001b[0m \u001b[0;32mas\u001b[0m \u001b[0mp\u001b[0m\u001b[0;34m\u001b[0m\u001b[0;34m\u001b[0m\u001b[0m\n\u001b[0m\u001b[1;32m      4\u001b[0m \u001b[0;31m#p.clean('#this and that')\u001b[0m\u001b[0;34m\u001b[0m\u001b[0;34m\u001b[0m\u001b[0;34m\u001b[0m\u001b[0m\n\u001b[1;32m      5\u001b[0m \u001b[0;32mimport\u001b[0m \u001b[0mstatistics\u001b[0m\u001b[0;34m\u001b[0m\u001b[0;34m\u001b[0m\u001b[0m\n",
            "\u001b[0;31mModuleNotFoundError\u001b[0m: No module named 'preprocessor'",
            "",
            "\u001b[0;31m---------------------------------------------------------------------------\u001b[0;32m\nNOTE: If your import is failing due to a missing package, you can\nmanually install dependencies using either !pip or !apt.\n\nTo view examples of installing some common dependencies, click the\n\"Open Examples\" button below.\n\u001b[0;31m---------------------------------------------------------------------------\u001b[0m\n"
          ],
          "errorDetails": {
            "actions": [
              {
                "action": "open_url",
                "actionText": "Open Examples",
                "url": "/notebooks/snippets/importing_libraries.ipynb"
              }
            ]
          }
        }
      ]
    },
    {
      "cell_type": "code",
      "source": [
        "#!/usr/bin/env python3\n",
        "# -*- coding: utf-8 -*-\n",
        "\"\"\"\n",
        "Created on Thu Oct 25 10:55:48 2018\n",
        "\n",
        "@author: user\n",
        "\"\"\"\n",
        "\n",
        "\n",
        "#!/usr/bin/env python3\n",
        "# -*- coding: utf-8 -*-\n",
        "\"\"\"\n",
        "Created on Thu Oct 25 10:48:32 2018\n",
        "\n",
        "@author: user\n",
        "\"\"\"\n",
        "\n",
        "from tweepy.streaming import StreamListener\n",
        "from tweepy import OAuthHandler\n",
        "from tweepy import Stream\n",
        "import time\n",
        "\n",
        "access_token = \"____________________________________\"\n",
        "access_token_secret = \"____________________________\"\n",
        "consumer_key = \"__________________________________\"\n",
        "consumer_secret = \"_____________________________\"\n",
        "\n",
        "f1=open(\"/media/amit/E4306FFF306FD758/Arvind_kejriwal_16_05_2019.txt\",'a+')\n",
        "#This is a basic listener that just prints received tweets to stdout.\n",
        "class StdOutListener(StreamListener):\n",
        "\n",
        "    def on_data(self,data):\n",
        "        print (data)\n",
        "        f1.write(\"%s\\n\"%(data))\n",
        "        return True\n",
        "\n",
        "    def on_error(self, status):\n",
        "        print (status)\n",
        "\n",
        "\n",
        "if __name__ == '__main__':\n",
        "\n",
        "    #This handles Twitter authentification and the connection to Twitter Streaming API\n",
        "    while(True):\n",
        "      try:\n",
        "            l = StdOutListener()\n",
        "            auth = OAuthHandler(consumer_key, consumer_secret)\n",
        "            auth.set_access_token(access_token, access_token_secret)\n",
        "            stream = Stream(auth, l)\n",
        "            #stream.filter(languages=[\"en\"], track=['HurricaneIrma','IRMA','Irma2017 ','HurricaineIrma2017'])\n",
        "            #stream.filter(languages=[\"en\"], track=['Tsunami','Indonesia','earthquake','gempa','Sulawesi','Indonesia'])\n",
        "            stream.filter(languages=[\"en\"],track=['ArvindKejriwal','AAP', 'AamAadmiParty','AAPUttarakhand','AapKaGopalRai'])\n",
        "            #stream.filter(track=['MissingIer','MrArena','manchesterattack','prayformachester','MissingManchest'])\n",
        "      except:\n",
        "        print(\"An exception occurred\")\n",
        "\n",
        "      print(stream.running)\n",
        "            #time.sleep(50)\n"
      ],
      "metadata": {
        "colab": {
          "base_uri": "https://localhost:8080/",
          "height": 234
        },
        "id": "4b7PvFehPLB6",
        "outputId": "6d425f82-5477-464a-c617-9355ff1acfc6"
      },
      "execution_count": null,
      "outputs": [
        {
          "output_type": "error",
          "ename": "FileNotFoundError",
          "evalue": "ignored",
          "traceback": [
            "\u001b[0;31m---------------------------------------------------------------------------\u001b[0m",
            "\u001b[0;31mFileNotFoundError\u001b[0m                         Traceback (most recent call last)",
            "\u001b[0;32m<ipython-input-2-4d1c7872c58b>\u001b[0m in \u001b[0;36m<module>\u001b[0;34m()\u001b[0m\n\u001b[1;32m     26\u001b[0m \u001b[0mconsumer_secret\u001b[0m \u001b[0;34m=\u001b[0m \u001b[0;34m\"hG1D6vEAaQHdy9O0V6QVjMHr7UeuCMdM3Yicy4nF9hgaZ5OsSe\"\u001b[0m\u001b[0;34m\u001b[0m\u001b[0;34m\u001b[0m\u001b[0m\n\u001b[1;32m     27\u001b[0m \u001b[0;34m\u001b[0m\u001b[0m\n\u001b[0;32m---> 28\u001b[0;31m \u001b[0mf1\u001b[0m\u001b[0;34m=\u001b[0m\u001b[0mopen\u001b[0m\u001b[0;34m(\u001b[0m\u001b[0;34m\"/media/amit/E4306FFF306FD758/Arvind_kejriwal_16_05_2019.txt\"\u001b[0m\u001b[0;34m,\u001b[0m\u001b[0;34m'a+'\u001b[0m\u001b[0;34m)\u001b[0m\u001b[0;34m\u001b[0m\u001b[0;34m\u001b[0m\u001b[0m\n\u001b[0m\u001b[1;32m     29\u001b[0m \u001b[0;31m#This is a basic listener that just prints received tweets to stdout.\u001b[0m\u001b[0;34m\u001b[0m\u001b[0;34m\u001b[0m\u001b[0;34m\u001b[0m\u001b[0m\n\u001b[1;32m     30\u001b[0m \u001b[0;32mclass\u001b[0m \u001b[0mStdOutListener\u001b[0m\u001b[0;34m(\u001b[0m\u001b[0mStreamListener\u001b[0m\u001b[0;34m)\u001b[0m\u001b[0;34m:\u001b[0m\u001b[0;34m\u001b[0m\u001b[0;34m\u001b[0m\u001b[0m\n",
            "\u001b[0;31mFileNotFoundError\u001b[0m: [Errno 2] No such file or directory: '/media/amit/E4306FFF306FD758/Arvind_kejriwal_16_05_2019.txt'"
          ]
        }
      ]
    }
  ]
}